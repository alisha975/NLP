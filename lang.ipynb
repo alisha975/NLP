{
 "cells": [
  {
   "cell_type": "code",
   "execution_count": 1,
   "id": "a99255bf",
   "metadata": {},
   "outputs": [],
   "source": [
    "from langchain.llms import GooglePalm\n",
    "api_key = \"your google api key\"\n",
    "llm = GooglePalm(google_api_key=api_key,temperature=0.7)"
   ]
  },
  {
   "cell_type": "code",
   "execution_count": 2,
   "id": "12efc714",
   "metadata": {},
   "outputs": [
    {
     "name": "stdout",
     "output_type": "stream",
     "text": [
      "Collecting google-generativeaiNote: you may need to restart the kernel to use updated packages.\n",
      "\n",
      "  Obtaining dependency information for google-generativeai from https://files.pythonhosted.org/packages/93/1a/1892cb4d1e925fa26f2b83bc8a6bca861f5e8fe6d5e9d9e983548b6d3532/google_generativeai-0.2.2-py3-none-any.whl.metadata\n",
      "  Downloading google_generativeai-0.2.2-py3-none-any.whl.metadata (3.1 kB)\n",
      "Collecting google-ai-generativelanguage==0.3.3 (from google-generativeai)\n",
      "  Obtaining dependency information for google-ai-generativelanguage==0.3.3 from https://files.pythonhosted.org/packages/8f/66/b5a83cdb4c8cb1d0f64243ae61bfa4e970b5740c2999dfe1bb96725599ab/google_ai_generativelanguage-0.3.3-py3-none-any.whl.metadata\n",
      "  Downloading google_ai_generativelanguage-0.3.3-py3-none-any.whl.metadata (5.1 kB)\n",
      "Collecting google-api-core (from google-generativeai)\n",
      "  Obtaining dependency information for google-api-core from https://files.pythonhosted.org/packages/4d/ce/4fd62ea66b3508debc795e475336ce915929765870f0ad52328426ba016e/google_api_core-2.12.0-py3-none-any.whl.metadata\n",
      "  Downloading google_api_core-2.12.0-py3-none-any.whl.metadata (2.7 kB)\n",
      "Collecting proto-plus<2.0.0dev,>=1.22.0 (from google-ai-generativelanguage==0.3.3->google-generativeai)\n",
      "  Obtaining dependency information for proto-plus<2.0.0dev,>=1.22.0 from https://files.pythonhosted.org/packages/36/5b/e02636d221917d6fa2a61289b3f16002eb4c93d51c0191ac8e896d527182/proto_plus-1.22.3-py3-none-any.whl.metadata\n",
      "  Downloading proto_plus-1.22.3-py3-none-any.whl.metadata (2.2 kB)\n",
      "Collecting protobuf (from google-generativeai)\n",
      "  Obtaining dependency information for protobuf from https://files.pythonhosted.org/packages/ba/ae/e286be9bee0dee7c5c923cc87f26bf52f172c322cbcea2e2ca9a42abd1f1/protobuf-4.24.4-cp39-cp39-win_amd64.whl.metadata\n",
      "  Using cached protobuf-4.24.4-cp39-cp39-win_amd64.whl.metadata (540 bytes)\n",
      "Collecting googleapis-common-protos<2.0.dev0,>=1.56.2 (from google-api-core->google-generativeai)\n",
      "  Obtaining dependency information for googleapis-common-protos<2.0.dev0,>=1.56.2 from https://files.pythonhosted.org/packages/21/49/12996dc0238e017504dceea1d121a48bd49fb3f4416f40d59fc3e924b4f3/googleapis_common_protos-1.61.0-py2.py3-none-any.whl.metadata\n",
      "  Downloading googleapis_common_protos-1.61.0-py2.py3-none-any.whl.metadata (1.5 kB)\n", 
      "Collecting grpcio-status<2.0.dev0,>=1.33.2 (from google-api-core->google-generativeai)\n",
      "  Obtaining dependency information for grpcio-status<2.0.dev0,>=1.33.2 from https://files.pythonhosted.org/packages/ea/4b/d31e321be28de4ea7d2dc00e0ec4b5c47696207bed4ced1b82b5146aa76c/grpcio_status-1.59.2-py3-none-any.whl.metadata\n",
      "  Downloading grpcio_status-1.59.2-py3-none-any.whl.metadata (1.3 kB)\n",
      "Collecting grpcio<2.0dev,>=1.33.2 (from google-api-core->google-generativeai)\n",
      "  Obtaining dependency information for grpcio<2.0dev,>=1.33.2 from https://files.pythonhosted.org/packages/a3/45/d69aedc11317d30840afd14f64cd47ff62d74a6f88c7fc5fda502d4623fd/grpcio-1.59.2-cp39-cp39-win_amd64.whl.metadata\n",
      "  Downloading grpcio-1.59.2-cp39-cp39-win_amd64.whl.metadata (4.2 kB)\n",
      "Downloading google_generativeai-0.2.2-py3-none-any.whl (133 kB)\n",
      "   ---------------------------------------- 0.0/133.2 kB ? eta -:--:--\n",
      "   --------------------- ------------------ 71.7/133.2 kB 1.3 MB/s eta 0:00:01\n",
      "   ---------------------------------------  133.1/133.2 kB 2.0 MB/s eta 0:00:01\n",
      "   -------------------------------------- 133.2/133.2 kB 871.8 kB/s eta 0:00:00\n",
      "Downloading google_ai_generativelanguage-0.3.3-py3-none-any.whl (267 kB)\n",
      "   ---------------------------------------- 0.0/267.9 kB ? eta -:--:--\n",
      "   ------------------------------ --------- 204.8/267.9 kB 4.1 MB/s eta 0:00:01\n",
      "   ---------------------------------------  266.2/267.9 kB 5.4 MB/s eta 0:00:01\n",
      "   ---------------------------------------  266.2/267.9 kB 5.4 MB/s eta 0:00:01\n",
      "   ---------------------------------------- 267.9/267.9 kB 1.8 MB/s eta 0:00:00\n",
      "Using cached protobuf-4.24.4-cp39-cp39-win_amd64.whl (430 kB)\n",
      "Downloading google_api_core-2.12.0-py3-none-any.whl (121 kB)\n",
      "   ---------------------------------------- 0.0/121.4 kB ? eta -:--:--\n",
      "   ------------------------------------- -- 112.6/121.4 kB ? eta -:--:--\n",
      "   ---------------------------------------- 121.4/121.4 kB 1.8 MB/s eta 0:00:00\n",
      "Downloading googleapis_common_protos-1.61.0-py2.py3-none-any.whl (230 kB)\n",
      "   ---------------------------------------- 0.0/230.9 kB ? eta -:--:--\n",
      "   ---------------------------------------  225.3/230.9 kB ? eta -:--:--\n",
      "   ---------------------------------------  225.3/230.9 kB ? eta -:--:--\n",
      "   ---------------------------------------- 230.9/230.9 kB 2.3 MB/s eta 0:00:00\n",
      "Downloading proto_plus-1.22.3-py3-none-any.whl (48 kB)\n",
      "   ---------------------------------------- 0.0/48.1 kB ? eta -:--:--\n",
      "   ---------------------------------- ----- 41.0/48.1 kB ? eta -:--:--\n",
      "   ---------------------------------- ----- 41.0/48.1 kB ? eta -:--:--\n",
      "   ---------------------------------------- 48.1/48.1 kB 485.4 kB/s eta 0:00:00\n",
      "Downloading grpcio_status-1.59.2-py3-none-any.whl (14 kB)\n",
      "Downloading grpcio-1.59.2-cp39-cp39-win_amd64.whl (3.7 MB)\n",
      "   ---------------------------------------- 0.0/3.7 MB ? eta -:--:--\n",
      "   -------- ------------------------------- 0.8/3.7 MB 17.6 MB/s eta 0:00:01\n",
      "   ---------------- ----------------------- 1.5/3.7 MB 19.4 MB/s eta 0:00:01\n",
      "   ---------------------------- ----------- 2.6/3.7 MB 20.9 MB/s eta 0:00:01\n",
      "   ---------------------------------------  3.7/3.7 MB 21.5 MB/s eta 0:00:01\n",
      "   ---------------------------------------  3.7/3.7 MB 21.5 MB/s eta 0:00:01\n",
      "   ---------------------------------------  3.7/3.7 MB 21.5 MB/s eta 0:00:01\n",
      "   ---------------------------------------- 3.7/3.7 MB 13.1 MB/s eta 0:00:00\n",
      "Installing collected packages: protobuf, grpcio, proto-plus, googleapis-common-protos, grpcio-status, google-api-core, google-ai-generativelanguage, google-generativeai\n",
      "  Attempting uninstall: protobuf\n",
      "    Found existing installation: protobuf 3.15.0\n",
      "    Uninstalling protobuf-3.15.0:\n",
      "      Successfully uninstalled protobuf-3.15.0\n",
      "  Attempting uninstall: grpcio\n",
      "    Found existing installation: grpcio 1.59.0\n",
      "    Uninstalling grpcio-1.59.0:\n",
      "      Successfully uninstalled grpcio-1.59.0\n",
      "Successfully installed google-ai-generativelanguage-0.3.3 google-api-core-2.12.0 google-generativeai-0.2.2 googleapis-common-protos-1.61.0 grpcio-1.59.2 grpcio-status-1.59.2 proto-plus-1.22.3 protobuf-4.24.4\n"
     ]
    },
    {
     "name": "stderr",
     "output_type": "stream",
     "text": [
      "ERROR: pip's dependency resolver does not currently take into account all the packages that are installed. This behaviour is the source of the following dependency conflicts.\n",
      "tensorboard 2.10.1 requires protobuf<3.20,>=3.9.2, but you have protobuf 4.24.4 which is incompatible.\n",
      "tensorflow 2.10.1 requires flatbuffers>=2.0, but you have flatbuffers 1.12 which is incompatible.\n",
      "tensorflow 2.10.1 requires keras<2.11,>=2.10.0, but you have keras 2.9.0 which is incompatible.\n",
      "tensorflow 2.10.1 requires protobuf<3.20,>=3.9.2, but you have protobuf 4.24.4 which is incompatible.\n",
      "tensorflow 2.10.1 requires tensorflow-estimator<2.11,>=2.10.0, but you have tensorflow-estimator 2.9.0 which is incompatible.\n",
      "\n",
      "[notice] A new release of pip is available: 23.2.1 -> 23.3.1\n",
      "[notice] To update, run: python.exe -m pip install --upgrade pip\n"
     ]
    }
   ],
   "source": [
    "pip install google-generativeai"
   ]
  },
  {
   "cell_type": "code",
   "execution_count": 2,
   "id": "502eafe3",
   "metadata": {},
   "outputs": [
    {
     "name": "stdout",
     "output_type": "stream",
     "text": [
      "```\n",
      "[Your Name]\n",
      "[Your Address]\n",
      "[Your City, State, Zip Code]\n",
      "[Your Phone Number]\n",
      "[Your Email]\n",
      "\n",
      "[Date]\n",
      "\n",
      "[Name of Principal]\n",
      "[Title]\n",
      "[School Name]\n",
      "[School Address]\n",
      "[School City, State, Zip Code]\n",
      "\n",
      "Dear Mr./Ms. [Principal's Name],\n",
      "\n",
      "I am writing to request a leave of absence for [number] days beginning on [start date] and ending on [end date]. I have been experiencing [illness] and need to take this time off to rest and recover.\n",
      "\n",
      "I have attached a doctor's note to this letter. I understand that my absence may cause some inconvenience, but I appreciate your understanding. I will do everything I can to stay updated on my work and to complete any assignments that are due while I am out.\n",
      "\n",
      "I will contact you on [date] to discuss my return to work.\n",
      "\n",
      "Thank you for your consideration.\n",
      "\n",
      "Sincerely,\n",
      "[Your Signature]\n",
      "[Your Typed Name]\n",
      "```\n"
     ]
    }
   ],
   "source": [
    "Eassy= llm(\"write a letter on principal for sick leave\")\n",
    "print(Eassy)"
   ]
  },
  {
   "cell_type": "code",
   "execution_count": 19,
   "id": "c0e191fc",
   "metadata": {},
   "outputs": [],
   "source": [
    "from langchain.document_loaders.csv_loader import CSVLoader\n",
    "\n",
    "loader = CSVLoader(file_path='information.csv', source_column=\"ï»¿prompt\")\n",
    "\n",
    "# Store the loaded data in the 'data' variable\n",
    "data = loader.load()"
   ]
  },
  {
   "cell_type": "code",
   "execution_count": 20,
   "id": "7d242bb0",
   "metadata": {},
   "outputs": [
    {
     "data": {
      "text/plain": [
       "[Document(page_content='ï»¿prompt: What is Python? List some popular applications of Python in the world of technology.\\nresponse: Python is a widely-used general-purpose, high-level programming language. It was created by Guido van Rossum in 1991 and further developed by the Python Software Foundation. It was designed with an emphasis on code readability, and its syntax allows programmers to express their concepts in fewer lines of code.', metadata={'source': 'What is Python? List some popular applications of Python in the world of technology.', 'row': 0}),\n",
       " Document(page_content='ï»¿prompt: What are the benefits of using Python language as a tool in the present scenario?\\nresponse: The following are the benefits of using Python language:Object-Oriented Language,High-Level Language,Dynamically Typed language,Extensive support Libraries,Presence of third-party modules,Open source and community development,Portable and Interactive,Portable across Operating systems', metadata={'source': 'What are the benefits of using Python language as a tool in the present scenario?', 'row': 1}),\n",
       " Document(page_content='ï»¿prompt: Is Python a compiled language or an interpreted language?\\nresponse: Actually, Python is a partially compiled language and partially interpreted language. The compilation part is done first when we execute our code and this will generate byte code internally this byte code gets converted by the Python virtual machine(p.v.m) according to the underlying platform(machine+operating system).', metadata={'source': 'Is Python a compiled language or an interpreted language?', 'row': 2}),\n",
       " Document(page_content='ï»¿prompt: What does the â€˜#â€™ symbol do in Python?\\nresponse: â€˜#â€™ is used to comment on everything that comes after on the line.', metadata={'source': 'What does the â€˜#â€™ symbol do in Python?', 'row': 3}),\n",
       " Document(page_content='ï»¿prompt: What is the difference between a Mutable datatype and an Immutable data type?\\nresponse: Mutable data types can be edited i.e., they can change at runtime. Eg â€“ List, Dictionary, etc.Immutable data types can not be edited i.e., they can not change at runtime. Eg â€“ String, Tuple, etc.', metadata={'source': 'What is the difference between a Mutable datatype and an Immutable data type?', 'row': 4}),\n",
       " Document(page_content='ï»¿prompt: How are arguments passed by value or by reference in Python?\\nresponse: Everything in Python is an object and all variables hold references to the objects. The reference values are according to the functions; as a result, you cannot change the value of the references. However, you can change the objects if it is mutable.', metadata={'source': 'How are arguments passed by value or by reference in Python?', 'row': 5}),\n",
       " Document(page_content='ï»¿prompt: What is the difference between a Set and Dictionary?\\nresponse: The set is an unordered collection of data types that is iterable, mutable and has no duplicate elements,and A dictionary in Python is an ordered collection of data values, used to store data values like a map.', metadata={'source': 'What is the difference between a Set and Dictionary?', 'row': 6}),\n",
       " Document(page_content='ï»¿prompt: What is List Comprehension? Give an Example.\\nresponse: List comprehension is a syntax construction to ease the creation of a list based on existing iterable.For Example:my_list = [i for i in range(1, 10)]', metadata={'source': 'What is List Comprehension? Give an Example.', 'row': 7}),\n",
       " Document(page_content='ï»¿prompt: What is a lambda function?\\nresponse: A lambda function is an anonymous function. This function can have any number of parameters but, can have just one statement. For Example:a = lambda x, y : x*y print(a(7, 19))', metadata={'source': 'What is a lambda function?', 'row': 8}),\n",
       " Document(page_content='ï»¿prompt: What is a pass in Python?\\nresponse: Pass means performing no operation or in other words, it is a placeholder in the compound statement, where there should be a blank left and nothing has to be written there.', metadata={'source': 'What is a pass in Python?', 'row': 9}),\n",
       " Document(page_content='ï»¿prompt: How is Exceptional handling done in Python?\\nresponse: There are 3 main keywords i.e. try, except, and finally which are used to catch exceptions and handle the recovering mechanism accordingly. Try is the block of a code that is monitored for errors. Except block gets executed when an error occurs.The beauty of the final block is to execute the code after trying for an error. This block gets executed irrespective of whether an error occurred or not. Finally, block is used to do the required cleanup activities of objects/variables.', metadata={'source': 'How is Exceptional handling done in Python?', 'row': 10})]"
      ]
     },
     "execution_count": 20,
     "metadata": {},
     "output_type": "execute_result"
    }
   ],
   "source": [
    "data"
   ]
  },
  {
   "cell_type": "code",
   "execution_count": 21,
   "id": "4060e8c2",
   "metadata": {},
   "outputs": [
    {
     "name": "stdout",
     "output_type": "stream",
     "text": [
      "load INSTRUCTOR_Transformer\n",
      "max_seq_length  512\n"
     ]
    }
   ],
   "source": [
    "from langchain.embeddings import HuggingFaceInstructEmbeddings\n",
    "from langchain.vectorstores import FAISS\n",
    "\n",
    "instructor_embeddings = HuggingFaceInstructEmbeddings()\n",
    "\n",
    "vectordb=FAISS.from_documents(documents=data,embedding=instructor_embeddings)"
   ]
  },
  {
   "cell_type": "code",
   "execution_count": 10,
   "id": "f4fa4927",
   "metadata": {},
   "outputs": [
    {
     "name": "stdout",
     "output_type": "stream",
     "text": [
      "Collecting instructorembedding\n",
      "  Obtaining dependency information for instructorembedding from https://files.pythonhosted.org/packages/6c/fc/64375441f43cc9ddc81f76a1a8f516e6d63f5b6ecb67fffdcddc0445f0d3/InstructorEmbedding-1.0.1-py2.py3-none-any.whl.metadata\n",
      "  Downloading InstructorEmbedding-1.0.1-py2.py3-none-any.whl.metadata (20 kB)\n",
      "Downloading InstructorEmbedding-1.0.1-py2.py3-none-any.whl (19 kB)\n",
      "Installing collected packages: instructorembedding\n",
      "Successfully installed instructorembedding-1.0.1\n",
      "Note: you may need to restart the kernel to use updated packages.\n"
     ]
    },
    {
     "name": "stderr",
     "output_type": "stream",
     "text": [
      "\n",
      "[notice] A new release of pip is available: 23.2.1 -> 23.3.1\n",
      "[notice] To update, run: python.exe -m pip install --upgrade pip\n"
     ]
    }
   ],
   "source": [
    "pip install instructorembedding"
   ]
  },
  {
   "cell_type": "code",
   "execution_count": 12,
   "id": "c6b87427",
   "metadata": {},
   "outputs": [],
   "source": [
    "import torch"
   ]
  },
  {
   "cell_type": "code",
   "execution_count": 23,
   "id": "f390000c",
   "metadata": {},
   "outputs": [
    {
     "data": {
      "text/plain": [
       "[Document(page_content='ï»¿prompt: What is Python? List some popular applications of Python in the world of technology.\\nresponse: Python is a widely-used general-purpose, high-level programming language. It was created by Guido van Rossum in 1991 and further developed by the Python Software Foundation. It was designed with an emphasis on code readability, and its syntax allows programmers to express their concepts in fewer lines of code.', metadata={'source': 'What is Python? List some popular applications of Python in the world of technology.', 'row': 0}),\n",
       " Document(page_content='ï»¿prompt: What is a pass in Python?\\nresponse: Pass means performing no operation or in other words, it is a placeholder in the compound statement, where there should be a blank left and nothing has to be written there.', metadata={'source': 'What is a pass in Python?', 'row': 9}),\n",
       " Document(page_content='ï»¿prompt: How is Exceptional handling done in Python?\\nresponse: There are 3 main keywords i.e. try, except, and finally which are used to catch exceptions and handle the recovering mechanism accordingly. Try is the block of a code that is monitored for errors. Except block gets executed when an error occurs.The beauty of the final block is to execute the code after trying for an error. This block gets executed irrespective of whether an error occurred or not. Finally, block is used to do the required cleanup activities of objects/variables.', metadata={'source': 'How is Exceptional handling done in Python?', 'row': 10}),\n",
       " Document(page_content='ï»¿prompt: What are the benefits of using Python language as a tool in the present scenario?\\nresponse: The following are the benefits of using Python language:Object-Oriented Language,High-Level Language,Dynamically Typed language,Extensive support Libraries,Presence of third-party modules,Open source and community development,Portable and Interactive,Portable across Operating systems', metadata={'source': 'What are the benefits of using Python language as a tool in the present scenario?', 'row': 1})]"
      ]
     },
     "execution_count": 23,
     "metadata": {},
     "output_type": "execute_result"
    }
   ],
   "source": [
    "retriever = vectordb.as_retriever()\n",
    "rdocs = retriever.get_relevant_documents(\"for how long this course is valid\")\n",
    "rdocs"
   ]
  },
  {
   "cell_type": "code",
   "execution_count": 24,
   "id": "34c5de28",
   "metadata": {},
   "outputs": [],
   "source": [
    "from langchain.chains import RetrievalQA\n",
    "\n",
    "chain= RetrievalQA.from_chain_type(llm=llm,\n",
    "            chain_type= \"stuff\",\n",
    "            retriever = retriever,\n",
    "            input_key = \"query\",\n",
    "            return_source_documents=True)"
   ]
  },
  {
   "cell_type": "code",
   "execution_count": 26,
   "id": "6ab20f6f",
   "metadata": {},
   "outputs": [
    {
     "data": {
      "text/plain": [
       "{'query': 'what is python',\n",
       " 'result': 'Python is a widely-used general-purpose, high-level programming language.',\n",
       " 'source_documents': [Document(page_content='ï»¿prompt: What is Python? List some popular applications of Python in the world of technology.\\nresponse: Python is a widely-used general-purpose, high-level programming language. It was created by Guido van Rossum in 1991 and further developed by the Python Software Foundation. It was designed with an emphasis on code readability, and its syntax allows programmers to express their concepts in fewer lines of code.', metadata={'source': 'What is Python? List some popular applications of Python in the world of technology.', 'row': 0}),\n",
       "  Document(page_content='ï»¿prompt: What are the benefits of using Python language as a tool in the present scenario?\\nresponse: The following are the benefits of using Python language:Object-Oriented Language,High-Level Language,Dynamically Typed language,Extensive support Libraries,Presence of third-party modules,Open source and community development,Portable and Interactive,Portable across Operating systems', metadata={'source': 'What are the benefits of using Python language as a tool in the present scenario?', 'row': 1}),\n",
       "  Document(page_content='ï»¿prompt: Is Python a compiled language or an interpreted language?\\nresponse: Actually, Python is a partially compiled language and partially interpreted language. The compilation part is done first when we execute our code and this will generate byte code internally this byte code gets converted by the Python virtual machine(p.v.m) according to the underlying platform(machine+operating system).', metadata={'source': 'Is Python a compiled language or an interpreted language?', 'row': 2}),\n",
       "  Document(page_content='ï»¿prompt: What is a pass in Python?\\nresponse: Pass means performing no operation or in other words, it is a placeholder in the compound statement, where there should be a blank left and nothing has to be written there.', metadata={'source': 'What is a pass in Python?', 'row': 9})]}"
      ]
     },
     "execution_count": 26,
     "metadata": {},
     "output_type": "execute_result"
    }
   ],
   "source": [
    "chain(\"what is python\")"
   ]
  },
  {
   "cell_type": "code",
   "execution_count": null,
   "id": "81716a46",
   "metadata": {},
   "outputs": [],
   "source": []
  }
 ],
 "metadata": {
  "kernelspec": {
   "display_name": "Python 3 (ipykernel)",
   "language": "python",
   "name": "python3"
  },
  "language_info": {
   "codemirror_mode": {
    "name": "ipython",
    "version": 3
   },
   "file_extension": ".py",
   "mimetype": "text/x-python",
   "name": "python",
   "nbconvert_exporter": "python",
   "pygments_lexer": "ipython3",
   "version": "3.9.13"
  }
 },
 "nbformat": 4,
 "nbformat_minor": 5
}
